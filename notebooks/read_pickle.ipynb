{
 "cells": [
  {
   "cell_type": "code",
   "execution_count": 1,
   "metadata": {},
   "outputs": [],
   "source": [
    "import pandas as pd"
   ]
  },
  {
   "cell_type": "code",
   "execution_count": 3,
   "metadata": {},
   "outputs": [
    {
     "data": {
      "text/html": [
       "<div>\n",
       "<style scoped>\n",
       "    .dataframe tbody tr th:only-of-type {\n",
       "        vertical-align: middle;\n",
       "    }\n",
       "\n",
       "    .dataframe tbody tr th {\n",
       "        vertical-align: top;\n",
       "    }\n",
       "\n",
       "    .dataframe thead th {\n",
       "        text-align: right;\n",
       "    }\n",
       "</style>\n",
       "<table border=\"1\" class=\"dataframe\">\n",
       "  <thead>\n",
       "    <tr style=\"text-align: right;\">\n",
       "      <th></th>\n",
       "      <th>Centroid X µm</th>\n",
       "      <th>Centroid Y µm</th>\n",
       "    </tr>\n",
       "  </thead>\n",
       "  <tbody>\n",
       "    <tr>\n",
       "      <th>0</th>\n",
       "      <td>22820.0</td>\n",
       "      <td>5974.5</td>\n",
       "    </tr>\n",
       "    <tr>\n",
       "      <th>1</th>\n",
       "      <td>22795.3</td>\n",
       "      <td>5978.1</td>\n",
       "    </tr>\n",
       "    <tr>\n",
       "      <th>2</th>\n",
       "      <td>22784.4</td>\n",
       "      <td>5977.4</td>\n",
       "    </tr>\n",
       "    <tr>\n",
       "      <th>3</th>\n",
       "      <td>22809.1</td>\n",
       "      <td>5981.3</td>\n",
       "    </tr>\n",
       "    <tr>\n",
       "      <th>4</th>\n",
       "      <td>22825.6</td>\n",
       "      <td>5983.8</td>\n",
       "    </tr>\n",
       "  </tbody>\n",
       "</table>\n",
       "</div>"
      ],
      "text/plain": [
       "   Centroid X µm  Centroid Y µm\n",
       "0        22820.0         5974.5\n",
       "1        22795.3         5978.1\n",
       "2        22784.4         5977.4\n",
       "3        22809.1         5981.3\n",
       "4        22825.6         5983.8"
      ]
     },
     "execution_count": 3,
     "metadata": {},
     "output_type": "execute_result"
    }
   ],
   "source": [
    "df_cell = pd.read_csv('/share/ymz/valisProject/tmp/Image_222476-P1-01.vsi - 20x_01_cells.tsv', sep='\\t', usecols=['Centroid X µm', 'Centroid Y µm'])\n",
    "df_cell.head()"
   ]
  },
  {
   "cell_type": "code",
   "execution_count": 4,
   "metadata": {},
   "outputs": [
    {
     "data": {
      "text/html": [
       "<div>\n",
       "<style scoped>\n",
       "    .dataframe tbody tr th:only-of-type {\n",
       "        vertical-align: middle;\n",
       "    }\n",
       "\n",
       "    .dataframe tbody tr th {\n",
       "        vertical-align: top;\n",
       "    }\n",
       "\n",
       "    .dataframe thead th {\n",
       "        text-align: right;\n",
       "    }\n",
       "</style>\n",
       "<table border=\"1\" class=\"dataframe\">\n",
       "  <thead>\n",
       "    <tr style=\"text-align: right;\">\n",
       "      <th></th>\n",
       "      <th>Centroid X µm</th>\n",
       "      <th>Centroid Y µm</th>\n",
       "    </tr>\n",
       "  </thead>\n",
       "  <tbody>\n",
       "    <tr>\n",
       "      <th>0</th>\n",
       "      <td>22820.0</td>\n",
       "      <td>5974.5</td>\n",
       "    </tr>\n",
       "    <tr>\n",
       "      <th>1</th>\n",
       "      <td>22795.3</td>\n",
       "      <td>5978.1</td>\n",
       "    </tr>\n",
       "    <tr>\n",
       "      <th>2</th>\n",
       "      <td>22784.4</td>\n",
       "      <td>5977.4</td>\n",
       "    </tr>\n",
       "    <tr>\n",
       "      <th>3</th>\n",
       "      <td>22809.1</td>\n",
       "      <td>5981.3</td>\n",
       "    </tr>\n",
       "    <tr>\n",
       "      <th>4</th>\n",
       "      <td>22825.6</td>\n",
       "      <td>5983.8</td>\n",
       "    </tr>\n",
       "    <tr>\n",
       "      <th>...</th>\n",
       "      <td>...</td>\n",
       "      <td>...</td>\n",
       "    </tr>\n",
       "    <tr>\n",
       "      <th>419315</th>\n",
       "      <td>25328.6</td>\n",
       "      <td>15165.8</td>\n",
       "    </tr>\n",
       "    <tr>\n",
       "      <th>419316</th>\n",
       "      <td>25347.5</td>\n",
       "      <td>15168.8</td>\n",
       "    </tr>\n",
       "    <tr>\n",
       "      <th>419317</th>\n",
       "      <td>25328.3</td>\n",
       "      <td>15177.9</td>\n",
       "    </tr>\n",
       "    <tr>\n",
       "      <th>419318</th>\n",
       "      <td>25381.9</td>\n",
       "      <td>15185.0</td>\n",
       "    </tr>\n",
       "    <tr>\n",
       "      <th>419319</th>\n",
       "      <td>25275.0</td>\n",
       "      <td>15198.2</td>\n",
       "    </tr>\n",
       "  </tbody>\n",
       "</table>\n",
       "<p>419320 rows × 2 columns</p>\n",
       "</div>"
      ],
      "text/plain": [
       "        Centroid X µm  Centroid Y µm\n",
       "0             22820.0         5974.5\n",
       "1             22795.3         5978.1\n",
       "2             22784.4         5977.4\n",
       "3             22809.1         5981.3\n",
       "4             22825.6         5983.8\n",
       "...               ...            ...\n",
       "419315        25328.6        15165.8\n",
       "419316        25347.5        15168.8\n",
       "419317        25328.3        15177.9\n",
       "419318        25381.9        15185.0\n",
       "419319        25275.0        15198.2\n",
       "\n",
       "[419320 rows x 2 columns]"
      ]
     },
     "execution_count": 4,
     "metadata": {},
     "output_type": "execute_result"
    }
   ],
   "source": [
    "df_cell"
   ]
  },
  {
   "cell_type": "code",
   "execution_count": 7,
   "metadata": {},
   "outputs": [],
   "source": [
    "cell_xy = df_cell.to_numpy()"
   ]
  },
  {
   "cell_type": "code",
   "execution_count": 9,
   "metadata": {},
   "outputs": [
    {
     "data": {
      "text/html": [
       "<div>\n",
       "<style scoped>\n",
       "    .dataframe tbody tr th:only-of-type {\n",
       "        vertical-align: middle;\n",
       "    }\n",
       "\n",
       "    .dataframe tbody tr th {\n",
       "        vertical-align: top;\n",
       "    }\n",
       "\n",
       "    .dataframe thead th {\n",
       "        text-align: right;\n",
       "    }\n",
       "</style>\n",
       "<table border=\"1\" class=\"dataframe\">\n",
       "  <thead>\n",
       "    <tr style=\"text-align: right;\">\n",
       "      <th></th>\n",
       "      <th>Warped Centroid X µm</th>\n",
       "      <th>Warped Centroid Y µm</th>\n",
       "    </tr>\n",
       "  </thead>\n",
       "  <tbody>\n",
       "    <tr>\n",
       "      <th>0</th>\n",
       "      <td>22820.0</td>\n",
       "      <td>5974.5</td>\n",
       "    </tr>\n",
       "    <tr>\n",
       "      <th>1</th>\n",
       "      <td>22795.3</td>\n",
       "      <td>5978.1</td>\n",
       "    </tr>\n",
       "    <tr>\n",
       "      <th>2</th>\n",
       "      <td>22784.4</td>\n",
       "      <td>5977.4</td>\n",
       "    </tr>\n",
       "    <tr>\n",
       "      <th>3</th>\n",
       "      <td>22809.1</td>\n",
       "      <td>5981.3</td>\n",
       "    </tr>\n",
       "    <tr>\n",
       "      <th>4</th>\n",
       "      <td>22825.6</td>\n",
       "      <td>5983.8</td>\n",
       "    </tr>\n",
       "    <tr>\n",
       "      <th>...</th>\n",
       "      <td>...</td>\n",
       "      <td>...</td>\n",
       "    </tr>\n",
       "    <tr>\n",
       "      <th>419315</th>\n",
       "      <td>25328.6</td>\n",
       "      <td>15165.8</td>\n",
       "    </tr>\n",
       "    <tr>\n",
       "      <th>419316</th>\n",
       "      <td>25347.5</td>\n",
       "      <td>15168.8</td>\n",
       "    </tr>\n",
       "    <tr>\n",
       "      <th>419317</th>\n",
       "      <td>25328.3</td>\n",
       "      <td>15177.9</td>\n",
       "    </tr>\n",
       "    <tr>\n",
       "      <th>419318</th>\n",
       "      <td>25381.9</td>\n",
       "      <td>15185.0</td>\n",
       "    </tr>\n",
       "    <tr>\n",
       "      <th>419319</th>\n",
       "      <td>25275.0</td>\n",
       "      <td>15198.2</td>\n",
       "    </tr>\n",
       "  </tbody>\n",
       "</table>\n",
       "<p>419320 rows × 2 columns</p>\n",
       "</div>"
      ],
      "text/plain": [
       "        Warped Centroid X µm  Warped Centroid Y µm\n",
       "0                    22820.0                5974.5\n",
       "1                    22795.3                5978.1\n",
       "2                    22784.4                5977.4\n",
       "3                    22809.1                5981.3\n",
       "4                    22825.6                5983.8\n",
       "...                      ...                   ...\n",
       "419315               25328.6               15165.8\n",
       "419316               25347.5               15168.8\n",
       "419317               25328.3               15177.9\n",
       "419318               25381.9               15185.0\n",
       "419319               25275.0               15198.2\n",
       "\n",
       "[419320 rows x 2 columns]"
      ]
     },
     "execution_count": 9,
     "metadata": {},
     "output_type": "execute_result"
    }
   ],
   "source": [
    "pd.DataFrame(cell_xy, columns=['Warped Centroid X µm', 'Warped Centroid Y µm'])"
   ]
  },
  {
   "cell_type": "code",
   "execution_count": 1,
   "metadata": {},
   "outputs": [],
   "source": [
    "from valis import registration\n",
    "regist_pth = '/home/yuanmingze/results/results_mIF_175/P1_2023-10-18-233335/P1/data/P1_registrar.pickle'"
   ]
  },
  {
   "cell_type": "code",
   "execution_count": 2,
   "metadata": {},
   "outputs": [],
   "source": [
    "# import os\n",
    "# ls_crop = sorted(os.listdir('/public/share/ymz/valisProject/data/mIF_175_converted_cropped/images'), key=lambda x: int(x[1:]))"
   ]
  },
  {
   "cell_type": "code",
   "execution_count": 3,
   "metadata": {},
   "outputs": [],
   "source": [
    "# ls_all = os.listdir('/public/share/ymz/valisProject/data/mIF_175_organized')"
   ]
  },
  {
   "cell_type": "code",
   "execution_count": 2,
   "metadata": {},
   "outputs": [],
   "source": [
    "regist = registration.load_registrar(regist_pth)"
   ]
  },
  {
   "cell_type": "code",
   "execution_count": 14,
   "metadata": {},
   "outputs": [
    {
     "data": {
      "text/plain": [
       "['/share/ymz/valisProject/data/mIF_175_organized/P1/_Image_222554-P1-03_/stack1/frame_t.ets',\n",
       " '/share/ymz/valisProject/data/mIF_175_organized/P1/_Image_222591-P1-05_/stack1/frame_t.ets',\n",
       " '/share/ymz/valisProject/data/mIF_175_organized/P1/_Image_222476-P1-01_/stack1/frame_t.ets',\n",
       " '/share/ymz/valisProject/data/mIF_175_organized/P1/_Image_222573-P1-04_/stack1/frame_t.ets',\n",
       " '/share/ymz/valisProject/data/mIF_175_organized/P1/_Image_222815-P1-02_/stack1/frame_t.ets']"
      ]
     },
     "execution_count": 14,
     "metadata": {},
     "output_type": "execute_result"
    }
   ],
   "source": [
    "regist.original_img_list"
   ]
  },
  {
   "cell_type": "code",
   "execution_count": 15,
   "metadata": {},
   "outputs": [],
   "source": [
    "slide_obj = regist.get_slide('/share/ymz/valisProject/data/mIF_175_organized/P1/_Image_222476-P1-01_/stack1/frame_t.ets')"
   ]
  },
  {
   "cell_type": "code",
   "execution_count": 11,
   "metadata": {},
   "outputs": [
    {
     "data": {
      "text/plain": [
       "<valis.registration.Slide at 0x7f3bff287f70>"
      ]
     },
     "execution_count": 11,
     "metadata": {},
     "output_type": "execute_result"
    }
   ],
   "source": [
    "slide_obj"
   ]
  },
  {
   "cell_type": "code",
   "execution_count": 16,
   "metadata": {},
   "outputs": [
    {
     "data": {
      "text/plain": [
       "array([[ 16740.61238735,  54715.11157534]])"
      ]
     },
     "execution_count": 16,
     "metadata": {},
     "output_type": "execute_result"
    }
   ],
   "source": [
    "slide_obj.warp_xy(xy=(22820, 5874.5), crop='overlap')"
   ]
  },
  {
   "cell_type": "code",
   "execution_count": null,
   "metadata": {},
   "outputs": [],
   "source": [
    "import pandas as pd\n",
    "\n",
    "# cell_seg = pd.read_"
   ]
  }
 ],
 "metadata": {
  "kernelspec": {
   "display_name": "valis",
   "language": "python",
   "name": "python3"
  },
  "language_info": {
   "codemirror_mode": {
    "name": "ipython",
    "version": 3
   },
   "file_extension": ".py",
   "mimetype": "text/x-python",
   "name": "python",
   "nbconvert_exporter": "python",
   "pygments_lexer": "ipython3",
   "version": "3.9.13"
  }
 },
 "nbformat": 4,
 "nbformat_minor": 2
}
