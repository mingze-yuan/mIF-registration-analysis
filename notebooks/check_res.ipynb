{
 "cells": [
  {
   "cell_type": "code",
   "execution_count": 7,
   "metadata": {},
   "outputs": [],
   "source": [
    "import pandas as pd\n",
    "res_info = pd.read_excel('/home/yuanmingze/tmp/res_sum_mIF_175_with_crop.xlsx')"
   ]
  },
  {
   "cell_type": "code",
   "execution_count": 8,
   "metadata": {},
   "outputs": [
    {
     "data": {
      "text/plain": [
       "/home/yuanmingze/results/results_mIF_175_after_crop/P161_2023-10-19-133716/P161    5\n",
       "/home/yuanmingze/results/results_mIF_175_after_crop/P157_2023-10-19-132907/P157    5\n",
       "/home/yuanmingze/results/results_mIF_175_after_crop/P155_2023-10-19-131325/P155    5\n",
       "/home/yuanmingze/results/results_mIF_175_after_crop/P154_2023-10-19-130555/P154    5\n",
       "/home/yuanmingze/results/results_mIF_175_after_crop/P9_2023-10-19-031248/P9        5\n",
       "/home/yuanmingze/results/results_mIF_175_after_crop/P113_2023-10-19-113003/P113    4\n",
       "/home/yuanmingze/results/results_mIF_175_after_crop/P5_2023-10-19-023658/P5        4\n",
       "/home/yuanmingze/results/results_mIF_175_after_crop/P162_2023-10-19-133913/P162    3\n",
       "/home/yuanmingze/results/results_mIF_175_after_crop/P156_2023-10-19-132247/P156    3\n",
       "/home/yuanmingze/results/results_mIF_175_after_crop/P10_2023-10-19-032344/P10      3\n",
       "Name: patient, dtype: int64"
      ]
     },
     "execution_count": 8,
     "metadata": {},
     "output_type": "execute_result"
    }
   ],
   "source": [
    "res_info['patient'].value_counts(sort=True)[-10:]"
   ]
  },
  {
   "cell_type": "code",
   "execution_count": 9,
   "metadata": {},
   "outputs": [
    {
     "data": {
      "text/plain": [
       "/home/yuanmingze/results/results_mIF_175_after_crop/P86_2023-10-19-093738/P86      6\n",
       "/home/yuanmingze/results/results_mIF_175_after_crop/P33_2023-10-19-055523/P33      6\n",
       "/home/yuanmingze/results/results_mIF_175_after_crop/P83_2023-10-19-091607/P83      6\n",
       "/home/yuanmingze/results/results_mIF_175_after_crop/P103_2023-10-19-101515/P103    5\n",
       "/home/yuanmingze/results/results_mIF_175_after_crop/P39_2023-10-19-063907/P39      5\n",
       "/home/yuanmingze/results/results_mIF_175_after_crop/P47_2023-10-19-071803/P47      5\n",
       "/home/yuanmingze/results/results_mIF_175_after_crop/P45_2023-10-19-071018/P45      5\n",
       "/home/yuanmingze/results/results_mIF_175_after_crop/P44_2023-10-19-070330/P44      5\n",
       "/home/yuanmingze/results/results_mIF_175_after_crop/P43_2023-10-19-065148/P43      5\n",
       "/home/yuanmingze/results/results_mIF_175_after_crop/P42_2023-10-19-065028/P42      5\n",
       "Name: patient, dtype: int64"
      ]
     },
     "execution_count": 9,
     "metadata": {},
     "output_type": "execute_result"
    }
   ],
   "source": [
    "res_info['patient'].value_counts(sort=True)[:10]"
   ]
  },
  {
   "cell_type": "code",
   "execution_count": null,
   "metadata": {},
   "outputs": [],
   "source": []
  }
 ],
 "metadata": {
  "kernelspec": {
   "display_name": "valis",
   "language": "python",
   "name": "python3"
  },
  "language_info": {
   "codemirror_mode": {
    "name": "ipython",
    "version": 3
   },
   "file_extension": ".py",
   "mimetype": "text/x-python",
   "name": "python",
   "nbconvert_exporter": "python",
   "pygments_lexer": "ipython3",
   "version": "3.9.13"
  }
 },
 "nbformat": 4,
 "nbformat_minor": 2
}
